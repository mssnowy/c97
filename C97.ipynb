{
  "nbformat": 4,
  "nbformat_minor": 0,
  "metadata": {
    "colab": {
      "provenance": [],
      "authorship_tag": "ABX9TyMywWmFIM2ngRjd9PdAf5rj",
      "include_colab_link": true
    },
    "kernelspec": {
      "name": "python3",
      "display_name": "Python 3"
    },
    "language_info": {
      "name": "python"
    }
  },
  "cells": [
    {
      "cell_type": "markdown",
      "metadata": {
        "id": "view-in-github",
        "colab_type": "text"
      },
      "source": [
        "<a href=\"https://colab.research.google.com/github/mssnowy/c97/blob/main/C97.ipynb\" target=\"_parent\"><img src=\"https://colab.research.google.com/assets/colab-badge.svg\" alt=\"Open In Colab\"/></a>"
      ]
    },
    {
      "cell_type": "code",
      "execution_count": 1,
      "metadata": {
        "colab": {
          "base_uri": "https://localhost:8080/"
        },
        "id": "IYXyL6N5lcu7",
        "outputId": "e75564e6-bc5c-493c-981d-19d11eac8954"
      },
      "outputs": [
        {
          "output_type": "stream",
          "name": "stdout",
          "text": [
            "sisira\n"
          ]
        }
      ],
      "source": [
        "print('sisira')"
      ]
    },
    {
      "cell_type": "code",
      "source": [
        "a = 10\n",
        "b = 20\n",
        "print('a =',a)\n",
        "print(a)\n",
        "print('b')\n",
        "print(b)\n",
        "\n",
        "type(a)\n",
        "type(b)"
      ],
      "metadata": {
        "colab": {
          "base_uri": "https://localhost:8080/"
        },
        "id": "flyX4hO1mKIH",
        "outputId": "cb334700-baf3-42a2-960d-5c2fa9d8ecc5"
      },
      "execution_count": 5,
      "outputs": [
        {
          "output_type": "stream",
          "name": "stdout",
          "text": [
            "a = 10\n",
            "10\n",
            "b\n",
            "20\n"
          ]
        },
        {
          "output_type": "execute_result",
          "data": {
            "text/plain": [
              "int"
            ]
          },
          "metadata": {},
          "execution_count": 5
        }
      ]
    },
    {
      "cell_type": "code",
      "source": [
        "c = 1.5\n",
        "print('c =',c)\n",
        "type(c)"
      ],
      "metadata": {
        "colab": {
          "base_uri": "https://localhost:8080/"
        },
        "id": "GJIuutwHoHC0",
        "outputId": "611434b0-e96a-4049-cdc2-7708a326525b"
      },
      "execution_count": 7,
      "outputs": [
        {
          "output_type": "stream",
          "name": "stdout",
          "text": [
            "c = 1.5\n"
          ]
        },
        {
          "output_type": "execute_result",
          "data": {
            "text/plain": [
              "float"
            ]
          },
          "metadata": {},
          "execution_count": 7
        }
      ]
    },
    {
      "cell_type": "code",
      "source": [
        "x = 15\n",
        "y = 16\n",
        "z = x+y\n",
        "print(z)"
      ],
      "metadata": {
        "colab": {
          "base_uri": "https://localhost:8080/"
        },
        "id": "fquN1sKfolmT",
        "outputId": "2aa41d28-eeb3-4bbb-8cde-1e2d3cf1dc2b"
      },
      "execution_count": 8,
      "outputs": [
        {
          "output_type": "stream",
          "name": "stdout",
          "text": [
            "31\n"
          ]
        }
      ]
    },
    {
      "cell_type": "code",
      "source": [
        "def Guess(num1,num2,choice):\n",
        "  result=0\n",
        "  if choice == '1':\n",
        "    result = num1+num2\n",
        "    print('what is ',num1,'+',num2,'?')\n",
        "    ans = int(input('>> '))\n",
        "    if(result==ans):\n",
        "      print('Good job! The answer is correct!')\n",
        "  elif choice == '2':\n",
        "    result = num1-num2\n",
        "    print('what is ',num1,'-',num2,'?')\n",
        "    ans = int(input('>> '))\n",
        "    if(result==ans):\n",
        "      print('Good job! The answer is correct!')\n",
        "    \n",
        "  elif choice == '3':\n",
        "    result = num1*num2\n",
        "    print('what is ',num1,'*',num2,'?')\n",
        "    ans = int(input('>> '))\n",
        "    if(result==ans):\n",
        "      print('Good job! The answer is correct!')\n",
        "\n",
        "  elif choice == '4':\n",
        "    result = num1/num2\n",
        "    print('what is ',num1,'/',num2,'?')\n",
        "    ans = int(input('>> '))\n",
        "    if(result==ans):\n",
        "      print('Good job! The answer is correct!')\n",
        "  \n",
        "  elif choice == '5':\n",
        "    result = num1%num2\n",
        "    print('what is ',num1,'%',num2,'?')\n",
        "    ans = int(input('>> '))\n",
        "    if(result==ans):\n",
        "      print('Good job! The answer is correct!')\n",
        "\n",
        "  else:\n",
        "    print('The answer is not correct')\n",
        "    print('The correct answer is',result)"
      ],
      "metadata": {
        "id": "Ae0c7x0jqd5l"
      },
      "execution_count": 13,
      "outputs": []
    },
    {
      "cell_type": "code",
      "source": [
        "import random\n",
        "print('Choose operation from below:')\n",
        "print('1. Add')\n",
        "print('2. Subtract')\n",
        "print('3. Multiply')\n",
        "print('4. Divide')\n",
        "print('5. Modulus')\n",
        "\n",
        "choice = input('enter option number(1/2/3/4/5): ')\n",
        "choices = ('1', '2', '3', '4', '5')\n",
        "\n",
        "if choice in choices:\n",
        "  num1 = random.randint(0,9)\n",
        "  num2 = random.randint(0,9)\n",
        "  Guess(num1,num2,choice)\n",
        "\n",
        "else: \n",
        "  print('Invalid input')"
      ],
      "metadata": {
        "colab": {
          "base_uri": "https://localhost:8080/"
        },
        "id": "BLgiIoG1pDqF",
        "outputId": "ba1b4246-ac3e-41b0-cd85-64a58b011a03"
      },
      "execution_count": 18,
      "outputs": [
        {
          "output_type": "stream",
          "name": "stdout",
          "text": [
            "Choose operation from below:\n",
            "1. Add\n",
            "2. Subtract\n",
            "3. Multiply\n",
            "4. Divide\n",
            "5. Modulus\n",
            "enter option number(1/2/3/4/5): 2\n",
            "what is  7 - 1 ?\n",
            ">> 6\n",
            "Good job! The answer is correct!\n"
          ]
        }
      ]
    }
  ]
}